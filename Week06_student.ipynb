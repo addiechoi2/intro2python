{
 "cells": [
  {
   "cell_type": "markdown",
   "id": "f0951ab1",
   "metadata": {},
   "source": [
    "# **Python For Neuro Week 6**: More Numpy and Pandas\n",
    "\n",
    "## Warmup\n",
    "\n",
    "We're going to start today by loading in ```mat_1.npy``` again. If you don't remember how to do this, use google to find the right function to use. Please assign the array to variable called ```arr```."
   ]
  },
  {
   "cell_type": "code",
   "execution_count": 3,
   "id": "652ede52",
   "metadata": {},
   "outputs": [],
   "source": [
    "import numpy as np\n",
    "# load in data\n",
    "arr = np.load('ex_array.npy')"
   ]
  },
  {
   "cell_type": "markdown",
   "id": "38098018",
   "metadata": {},
   "source": [
    "## Summary operations"
   ]
  },
  {
   "cell_type": "markdown",
   "id": "de7eed1d",
   "metadata": {},
   "source": [
    "Summary operations allow you to collapse an array according to a certain summary statistic. For instance, we may want to compute the overall mean firing rate in our experimental data:"
   ]
  },
  {
   "cell_type": "code",
   "execution_count": 4,
   "id": "7a0fd990",
   "metadata": {},
   "outputs": [
    {
     "data": {
      "text/plain": [
       "np.float64(0.8717270073789575)"
      ]
     },
     "execution_count": 4,
     "metadata": {},
     "output_type": "execute_result"
    }
   ],
   "source": [
    "arr.mean()"
   ]
  },
  {
   "cell_type": "markdown",
   "id": "a54761f6",
   "metadata": {},
   "source": [
    "You can also specify the axis along we want to average. For instance, maybe we want to average firing rates across individual trials:"
   ]
  },
  {
   "cell_type": "code",
   "execution_count": null,
   "id": "7eb77e44",
   "metadata": {},
   "outputs": [
    {
     "data": {
      "text/plain": [
       "(2, 10, 50, 2000)"
      ]
     },
     "execution_count": 5,
     "metadata": {},
     "output_type": "execute_result"
    }
   ],
   "source": [
    "arr.shape\n",
    "# conditions x trials x neurons x times"
   ]
  },
  {
   "cell_type": "code",
   "execution_count": 8,
   "id": "fb024f5e",
   "metadata": {},
   "outputs": [],
   "source": [
    "arr_across_trials = arr.mean(axis=1)"
   ]
  },
  {
   "cell_type": "code",
   "execution_count": 9,
   "id": "2ee73214",
   "metadata": {},
   "outputs": [
    {
     "data": {
      "text/plain": [
       "(2, 50, 2000)"
      ]
     },
     "execution_count": 9,
     "metadata": {},
     "output_type": "execute_result"
    }
   ],
   "source": [
    "arr_across_trials.shape"
   ]
  },
  {
   "cell_type": "markdown",
   "id": "3842743e",
   "metadata": {},
   "source": [
    "The `keepdims` argument means that you don't remove the dimensions you're averaging over, but rather set their length to 1:"
   ]
  },
  {
   "cell_type": "code",
   "execution_count": 11,
   "id": "99c9d903",
   "metadata": {},
   "outputs": [],
   "source": [
    "arr_across_trials = arr.mean(axis=1, keepdims=True)"
   ]
  },
  {
   "cell_type": "code",
   "execution_count": 12,
   "id": "da36b331",
   "metadata": {},
   "outputs": [
    {
     "data": {
      "text/plain": [
       "(2, 1, 50, 2000)"
      ]
     },
     "execution_count": 12,
     "metadata": {},
     "output_type": "execute_result"
    }
   ],
   "source": [
    "arr_across_trials.shape"
   ]
  },
  {
   "cell_type": "markdown",
   "id": "7f473586",
   "metadata": {},
   "source": [
    "You can average across multiple axes as well. For instance, maybe you want to average across both trials and time:"
   ]
  },
  {
   "cell_type": "code",
   "execution_count": 13,
   "id": "45b7f3f3",
   "metadata": {},
   "outputs": [],
   "source": [
    "arr_across_trials_and_time = arr.mean(axis=(1,3))"
   ]
  },
  {
   "cell_type": "code",
   "execution_count": 14,
   "id": "d3dbb6e2",
   "metadata": {},
   "outputs": [
    {
     "data": {
      "text/plain": [
       "(2, 50)"
      ]
     },
     "execution_count": 14,
     "metadata": {},
     "output_type": "execute_result"
    }
   ],
   "source": [
    "arr_across_trials_and_time.shape"
   ]
  },
  {
   "cell_type": "markdown",
   "id": "d03eebc0",
   "metadata": {},
   "source": [
    "### Question 1\n",
    "\n",
    "- What is the average firing rate across all neurons, times, and trials for each condition?\n",
    "- (Advanced.) Subtract the average firing rate per time across all neurons, trials, and conditions from the original array."
   ]
  },
  {
   "cell_type": "code",
   "execution_count": 24,
   "id": "5ce6e6c7",
   "metadata": {},
   "outputs": [
    {
     "data": {
      "text/plain": [
       "array([[[[-0.76499136, -0.02171358, -0.80560081, ...,  0.35041587,\n",
       "           0.98261109, -0.84195545],\n",
       "         [ 0.8741158 ,  0.17461844,  0.32288551, ..., -0.48473226,\n",
       "          -0.72546921, -0.31405815],\n",
       "         [ 0.40488151,  0.76609302,  0.85904953, ..., -0.60254857,\n",
       "           0.01579174, -0.37431734],\n",
       "         ...,\n",
       "         [-0.73774932, -0.70973912, -0.42524641, ..., -0.43177458,\n",
       "          -0.22913276,  0.36355105],\n",
       "         [ 1.60391558,  0.82240745,  1.25244759, ...,  1.74728392,\n",
       "           2.24073803,  1.04853981],\n",
       "         [-0.14208281,  1.17507076,  0.50786657, ...,  0.87026509,\n",
       "           1.23866299,  0.02697626]],\n",
       "\n",
       "        [[-0.06094189,  0.06133541, -0.61234789, ...,  0.44371033,\n",
       "           0.42449885,  0.36580084],\n",
       "         [-0.30498115, -0.08299414,  0.22180931, ..., -0.37651488,\n",
       "          -0.65283046, -0.31668765],\n",
       "         [ 0.0111745 , -0.18479275,  0.37892349, ...,  0.03273349,\n",
       "          -0.41165279, -0.43351004],\n",
       "         ...,\n",
       "         [-0.83527779, -0.30067984, -0.37638529, ..., -0.27768678,\n",
       "          -0.59037555, -0.67925057],\n",
       "         [ 0.73316923,  1.68458843,  0.96742844, ...,  0.99006362,\n",
       "           1.93390993,  1.92254158],\n",
       "         [ 0.10406282, -0.06144514,  1.0127434 , ...,  0.70596668,\n",
       "           0.67135261, -0.22053732]],\n",
       "\n",
       "        [[-0.25206632,  0.57230665, -0.14654944, ..., -0.2510757 ,\n",
       "           0.55074452, -0.14207722],\n",
       "         [-0.22998792,  0.22076142, -0.25922753, ..., -0.84157416,\n",
       "           0.01947644, -0.35459327],\n",
       "         [-0.00814127,  1.41577016, -0.38606042, ..., -0.25066764,\n",
       "           0.72740826, -0.6796562 ],\n",
       "         ...,\n",
       "         [-0.82565982, -0.6434547 , -0.40927555, ..., -0.14110095,\n",
       "          -0.64335271, -0.05114851],\n",
       "         [ 1.36865293,  1.00173908,  1.09329538, ...,  1.43753281,\n",
       "           1.86575993,  2.68916523],\n",
       "         [ 0.27976172,  0.5428596 , -0.59673817, ...,  0.82678054,\n",
       "           1.67172969,  0.08624204]],\n",
       "\n",
       "        ...,\n",
       "\n",
       "        [[ 0.08377077, -0.46603452, -0.0929038 , ..., -0.42793575,\n",
       "          -0.18396943, -0.29359541],\n",
       "         [ 0.3949104 , -0.13016129,  0.10283894, ..., -0.65629556,\n",
       "           0.05238609,  0.00303889],\n",
       "         [ 0.17323956,  1.05320341,  0.44434791, ..., -0.17280404,\n",
       "           0.02371162,  0.2363372 ],\n",
       "         ...,\n",
       "         [-0.17207268, -0.60244464, -0.07887625, ..., -0.33612538,\n",
       "          -0.43166994, -0.16764478],\n",
       "         [ 0.22698363,  1.24577695,  0.66540782, ...,  1.99410886,\n",
       "           2.60708422,  2.17998084],\n",
       "         [-0.502628  ,  0.29097655, -0.04949722, ...,  1.13051808,\n",
       "           0.3274265 ,  0.35216933]],\n",
       "\n",
       "        [[-0.56015365, -0.71976635, -0.34227783, ..., -0.23807219,\n",
       "          -0.55957136,  0.14331449],\n",
       "         [ 0.07079233,  0.17628025,  0.75904566, ..., -0.39218862,\n",
       "          -0.76778642, -0.78115261],\n",
       "         [ 0.32141222,  0.35351927, -0.50903481, ..., -0.25498947,\n",
       "          -0.01383059, -0.27606546],\n",
       "         ...,\n",
       "         [-0.03027249,  0.01039088, -0.40599043, ..., -0.76847282,\n",
       "          -0.45999844,  0.19482709],\n",
       "         [ 1.28116162,  1.73943579,  0.35900573, ...,  2.27388384,\n",
       "           1.67294066,  1.41932279],\n",
       "         [ 0.06106562, -0.82526479, -0.85855374, ..., -0.29878746,\n",
       "           0.60684917,  0.74230391]],\n",
       "\n",
       "        [[-0.57531286, -0.39706899, -0.38569289, ...,  0.36947016,\n",
       "           0.15388091, -0.80178884],\n",
       "         [-0.62614814,  0.1007664 , -0.18591111, ...,  0.3476848 ,\n",
       "          -0.83225805,  0.18829494],\n",
       "         [ 0.19716071,  0.16826008, -0.27681445, ..., -0.33157205,\n",
       "           0.36532481,  0.0480249 ],\n",
       "         ...,\n",
       "         [-0.74905528,  0.26396613, -0.47499036, ..., -0.16311405,\n",
       "          -0.53154774, -0.58740143],\n",
       "         [ 1.81746581,  0.7483775 ,  1.28846009, ...,  1.39148942,\n",
       "           1.86514774,  2.10620505],\n",
       "         [ 0.34534453,  0.12159459, -0.40893063, ...,  0.06092628,\n",
       "           0.62018191, -0.48581383]]],\n",
       "\n",
       "\n",
       "       [[[-0.6031365 , -0.64078806, -0.76043536, ...,  0.13532979,\n",
       "          -0.78465152,  0.27178162],\n",
       "         [-0.81349908,  0.23789434, -0.78654343, ...,  0.15966804,\n",
       "           0.76309456,  0.24002177],\n",
       "         [ 0.03516301, -0.81669427, -0.10949016, ...,  0.04954121,\n",
       "           1.02849562, -0.21023649],\n",
       "         ...,\n",
       "         [ 0.64466976,  0.23352356,  0.41310106, ..., -0.6144875 ,\n",
       "           0.05275486, -0.83246936],\n",
       "         [-0.6226563 , -0.48108204, -0.35131246, ...,  0.99553868,\n",
       "           0.40575458,  1.30471187],\n",
       "         [-0.27991207, -0.30063975, -0.86082071, ...,  0.59070212,\n",
       "           0.93666301,  1.17565842]],\n",
       "\n",
       "        [[-0.69795992, -0.13168411, -0.59328098, ...,  0.18665116,\n",
       "          -0.19439873, -0.71511403],\n",
       "         [ 0.02873747, -0.4692695 , -0.86411193, ...,  0.85167787,\n",
       "           0.26722278,  1.42041911],\n",
       "         [-0.24906983, -0.0878213 , -0.03158442, ..., -0.14021088,\n",
       "           0.28925539,  0.38934101],\n",
       "         ...,\n",
       "         [ 0.32467085,  0.26656049, -0.36863426, ..., -0.08386024,\n",
       "          -0.78376153,  0.1784157 ],\n",
       "         [-0.85753388, -0.36046892,  0.08821387, ...,  1.22958654,\n",
       "           0.52502109, -0.63787108],\n",
       "         [-0.50559677, -0.48815187, -0.86527613, ...,  0.30986871,\n",
       "           0.91362001,  0.71052455]],\n",
       "\n",
       "        [[-0.62990656, -0.83644668, -0.87052501, ..., -0.05194959,\n",
       "           0.47103279, -0.00777369],\n",
       "         [-0.39662906, -0.86922775, -0.56292667, ...,  0.88756545,\n",
       "           0.8330763 ,  0.61525305],\n",
       "         [-0.56282018,  0.53016974, -0.31559567, ...,  0.02248117,\n",
       "           0.18369491, -0.53698846],\n",
       "         ...,\n",
       "         [-0.86957348, -0.59829468,  1.03322843, ..., -0.67894787,\n",
       "          -0.83183153, -0.66613937],\n",
       "         [ 0.26168306, -0.58453859, -0.44085581, ...,  1.20465149,\n",
       "          -0.13006478,  0.81410489],\n",
       "         [-0.69354641, -0.48688931,  0.04389749, ...,  0.3603045 ,\n",
       "           0.83103545,  0.11136882]],\n",
       "\n",
       "        ...,\n",
       "\n",
       "        [[-0.48215737, -0.57085392, -0.01829554, ..., -0.01471368,\n",
       "          -0.73535778,  0.36914918],\n",
       "         [-0.37744677,  0.48270534, -0.22462489, ...,  0.85898391,\n",
       "           1.35154383,  0.14626997],\n",
       "         [-0.25146384, -0.82004461, -0.30409581, ...,  0.26261522,\n",
       "          -0.04390988,  0.34556984],\n",
       "         ...,\n",
       "         [-0.7811752 , -0.51512516, -0.66462497, ..., -0.62241182,\n",
       "          -0.84173324, -0.46535252],\n",
       "         [-0.52894294, -0.7324265 , -0.23444945, ...,  1.56982773,\n",
       "           0.73475328,  1.08707199],\n",
       "         [-0.60534306, -0.40031459,  0.20991695, ...,  0.46842807,\n",
       "           0.35847542, -0.38810423]],\n",
       "\n",
       "        [[-0.55322648, -0.11021431, -0.83574656, ...,  0.17144496,\n",
       "           0.07986781, -0.02002431],\n",
       "         [ 0.12213253, -0.8571102 , -0.22570311, ...,  0.43437121,\n",
       "           0.03533738,  0.50077473],\n",
       "         [-0.56343557, -0.35843957,  0.14429635, ..., -0.64754119,\n",
       "           0.72184635, -0.74821662],\n",
       "         ...,\n",
       "         [-0.30375588, -0.72166466,  0.27963419, ..., -0.43141748,\n",
       "          -0.2616291 , -0.07216705],\n",
       "         [-0.64628105,  0.01188327,  0.68633211, ...,  0.17943721,\n",
       "           0.07022573,  1.01914666],\n",
       "         [-0.75341645, -0.655399  ,  0.20796056, ...,  0.37922718,\n",
       "           0.95736896, -0.12524126]],\n",
       "\n",
       "        [[-0.68539944, -0.60848051, -0.56400893, ..., -0.3495361 ,\n",
       "           0.70344614,  0.790653  ],\n",
       "         [-0.81875297, -0.5686323 ,  0.45020552, ...,  0.36263236,\n",
       "           0.59814532,  0.18951259],\n",
       "         [ 0.59432242, -0.70625753, -0.82210763, ..., -0.68894666,\n",
       "          -0.01527554, -0.83572818],\n",
       "         ...,\n",
       "         [-0.47257703, -0.38124108, -0.46219169, ..., -0.38602141,\n",
       "          -0.82673087, -0.04867572],\n",
       "         [-0.59182047, -0.69266484,  0.63176751, ...,  1.30743525,\n",
       "           0.32455434,  0.55362734],\n",
       "         [-0.36252633,  0.178021  , -0.79726834, ...,  1.68277067,\n",
       "           1.21645579,  0.47812076]]]], shape=(2, 10, 50, 2000))"
      ]
     },
     "execution_count": 24,
     "metadata": {},
     "output_type": "execute_result"
    }
   ],
   "source": [
    "avg_condition = arr.mean(axis=(1,2,3))\n",
    "arr_avg_overall = arr.mean()\n",
    "\n",
    "arr - arr_avg_overall"
   ]
  },
  {
   "cell_type": "markdown",
   "id": "f085ffae",
   "metadata": {},
   "source": [
    "## Indexing"
   ]
  },
  {
   "cell_type": "markdown",
   "id": "2bc54bf7",
   "metadata": {},
   "source": [
    "Indexing in vectors works just as in lists:"
   ]
  },
  {
   "cell_type": "code",
   "execution_count": 27,
   "id": "374cb0e3",
   "metadata": {},
   "outputs": [],
   "source": [
    "vec_1 = np.array([1,2,3])"
   ]
  },
  {
   "cell_type": "code",
   "execution_count": 28,
   "id": "96968d88",
   "metadata": {},
   "outputs": [
    {
     "data": {
      "text/plain": [
       "np.int64(1)"
      ]
     },
     "execution_count": 28,
     "metadata": {},
     "output_type": "execute_result"
    }
   ],
   "source": [
    "vec_1[0]"
   ]
  },
  {
   "cell_type": "markdown",
   "id": "54217d3a",
   "metadata": {},
   "source": [
    "For matrices and higher-dimensional arrays, a single index selects a single row:"
   ]
  },
  {
   "cell_type": "code",
   "execution_count": 30,
   "id": "953b1db4",
   "metadata": {},
   "outputs": [],
   "source": [
    "mat_1 = np.array(([1,2,3],[4,5,6]))"
   ]
  },
  {
   "cell_type": "code",
   "execution_count": 31,
   "id": "e8cd2075",
   "metadata": {},
   "outputs": [
    {
     "data": {
      "text/plain": [
       "array([1, 2, 3])"
      ]
     },
     "execution_count": 31,
     "metadata": {},
     "output_type": "execute_result"
    }
   ],
   "source": [
    "mat_1[0]"
   ]
  },
  {
   "cell_type": "code",
   "execution_count": 32,
   "id": "650eda88",
   "metadata": {},
   "outputs": [
    {
     "data": {
      "text/plain": [
       "np.int64(2)"
      ]
     },
     "execution_count": 32,
     "metadata": {},
     "output_type": "execute_result"
    }
   ],
   "source": [
    "mat_1[0][1]"
   ]
  },
  {
   "cell_type": "markdown",
   "id": "24275c28",
   "metadata": {},
   "source": [
    "Instead of using two brackets, you can also separate the row and column index by a comma:"
   ]
  },
  {
   "cell_type": "code",
   "execution_count": 33,
   "id": "7d60da6e",
   "metadata": {},
   "outputs": [
    {
     "name": "stdout",
     "output_type": "stream",
     "text": [
      "1\n",
      "1\n"
     ]
    }
   ],
   "source": [
    "# The following two lines of code are equivalent\n",
    "print(mat_1[0][0])\n",
    "print(mat_1[0,0])"
   ]
  },
  {
   "cell_type": "markdown",
   "id": "fe179cfd",
   "metadata": {},
   "source": [
    "### Slicing"
   ]
  },
  {
   "cell_type": "markdown",
   "id": "1802e2a7",
   "metadata": {},
   "source": [
    "Slicing is a useful way of extracting more than one element. In particular, `j:k` extracts the elements j,...,k-1:"
   ]
  },
  {
   "cell_type": "code",
   "execution_count": 34,
   "id": "6d8cfa38",
   "metadata": {},
   "outputs": [
    {
     "name": "stdout",
     "output_type": "stream",
     "text": [
      "[0 1 2 3 4 5 6 7 8 9]\n"
     ]
    }
   ],
   "source": [
    "vec = np.arange(10)\n",
    "print(vec)"
   ]
  },
  {
   "cell_type": "code",
   "execution_count": 35,
   "id": "8bfeb894",
   "metadata": {},
   "outputs": [
    {
     "data": {
      "text/plain": [
       "array([3, 4, 5, 6])"
      ]
     },
     "execution_count": 35,
     "metadata": {},
     "output_type": "execute_result"
    }
   ],
   "source": [
    "vec[3:7]"
   ]
  },
  {
   "cell_type": "markdown",
   "id": "a1212e86",
   "metadata": {},
   "source": [
    "We can leave either end of the range away and it will default to the beginning and the end of the list, respectively."
   ]
  },
  {
   "cell_type": "code",
   "execution_count": 36,
   "id": "3c5452cd",
   "metadata": {},
   "outputs": [
    {
     "data": {
      "text/plain": [
       "array([0, 1, 2, 3, 4, 5, 6])"
      ]
     },
     "execution_count": 36,
     "metadata": {},
     "output_type": "execute_result"
    }
   ],
   "source": [
    "vec[:7]"
   ]
  },
  {
   "cell_type": "code",
   "execution_count": 37,
   "id": "cbe43dd8",
   "metadata": {},
   "outputs": [
    {
     "data": {
      "text/plain": [
       "array([3, 4, 5, 6, 7, 8, 9])"
      ]
     },
     "execution_count": 37,
     "metadata": {},
     "output_type": "execute_result"
    }
   ],
   "source": [
    "vec[3:]"
   ]
  },
  {
   "cell_type": "code",
   "execution_count": 38,
   "id": "bf96dd64",
   "metadata": {},
   "outputs": [
    {
     "data": {
      "text/plain": [
       "array([0, 1, 2, 3, 4, 5, 6, 7, 8, 9])"
      ]
     },
     "execution_count": 38,
     "metadata": {},
     "output_type": "execute_result"
    }
   ],
   "source": [
    "vec[:] # What do you think this will do?"
   ]
  },
  {
   "cell_type": "markdown",
   "id": "7fccec03",
   "metadata": {},
   "source": [
    "You can therefore also use the colon to select all rows of a matrix and specific columns."
   ]
  },
  {
   "cell_type": "code",
   "execution_count": 39,
   "id": "9f8c9b36",
   "metadata": {},
   "outputs": [
    {
     "data": {
      "text/plain": [
       "array([[1, 2, 3],\n",
       "       [4, 5, 6]])"
      ]
     },
     "execution_count": 39,
     "metadata": {},
     "output_type": "execute_result"
    }
   ],
   "source": [
    "mat_1"
   ]
  },
  {
   "cell_type": "code",
   "execution_count": 40,
   "id": "12018771",
   "metadata": {},
   "outputs": [
    {
     "data": {
      "text/plain": [
       "array([1, 4])"
      ]
     },
     "execution_count": 40,
     "metadata": {},
     "output_type": "execute_result"
    }
   ],
   "source": [
    "mat_1[:,0]"
   ]
  },
  {
   "cell_type": "markdown",
   "id": "a7793ec5",
   "metadata": {},
   "source": [
    "You can add another colon to specify a step size, similarly to how you would use these three arguments in `range`."
   ]
  },
  {
   "cell_type": "code",
   "execution_count": 41,
   "id": "11165fb2",
   "metadata": {},
   "outputs": [
    {
     "data": {
      "text/plain": [
       "array([3, 5])"
      ]
     },
     "execution_count": 41,
     "metadata": {},
     "output_type": "execute_result"
    }
   ],
   "source": [
    "vec[3:7:2]"
   ]
  },
  {
   "cell_type": "markdown",
   "id": "678f7aba",
   "metadata": {},
   "source": [
    "We could still leave away the beginning or the end of the slice:"
   ]
  },
  {
   "cell_type": "code",
   "execution_count": 42,
   "id": "fbb86466",
   "metadata": {},
   "outputs": [
    {
     "data": {
      "text/plain": [
       "array([0, 2, 4, 6, 8])"
      ]
     },
     "execution_count": 42,
     "metadata": {},
     "output_type": "execute_result"
    }
   ],
   "source": [
    "vec[::2]"
   ]
  },
  {
   "cell_type": "markdown",
   "id": "ad5062f6",
   "metadata": {},
   "source": [
    "### Question 2\n",
    "Predict the output of the following commands:"
   ]
  },
  {
   "cell_type": "code",
   "execution_count": 43,
   "id": "648a913b",
   "metadata": {},
   "outputs": [
    {
     "data": {
      "text/plain": [
       "array([0, 1, 2, 3])"
      ]
     },
     "execution_count": 43,
     "metadata": {},
     "output_type": "execute_result"
    }
   ],
   "source": [
    "vec[:4]"
   ]
  },
  {
   "cell_type": "code",
   "execution_count": 44,
   "id": "477e3590",
   "metadata": {},
   "outputs": [
    {
     "data": {
      "text/plain": [
       "array([5, 7])"
      ]
     },
     "execution_count": 44,
     "metadata": {},
     "output_type": "execute_result"
    }
   ],
   "source": [
    "vec[5:9:2]"
   ]
  },
  {
   "cell_type": "code",
   "execution_count": 45,
   "id": "2e2b7275",
   "metadata": {},
   "outputs": [
    {
     "data": {
      "text/plain": [
       "array([0, 2, 4, 6])"
      ]
     },
     "execution_count": 45,
     "metadata": {},
     "output_type": "execute_result"
    }
   ],
   "source": [
    "vec[:7:2]"
   ]
  },
  {
   "cell_type": "code",
   "execution_count": 46,
   "id": "0a9d2644",
   "metadata": {},
   "outputs": [
    {
     "data": {
      "text/plain": [
       "array([2, 4, 6, 8])"
      ]
     },
     "execution_count": 46,
     "metadata": {},
     "output_type": "execute_result"
    }
   ],
   "source": [
    "vec[2::2]"
   ]
  },
  {
   "cell_type": "markdown",
   "id": "07dbe199",
   "metadata": {},
   "source": [
    "### Boolean indexing"
   ]
  },
  {
   "cell_type": "markdown",
   "id": "2f7784df",
   "metadata": {},
   "source": [
    "Do you remember how to create an array that is true if and only if `vec` is smaller than 5?"
   ]
  },
  {
   "cell_type": "code",
   "execution_count": 47,
   "id": "8224dd0a",
   "metadata": {},
   "outputs": [
    {
     "data": {
      "text/plain": [
       "array([0, 1, 2, 3, 4, 5, 6, 7, 8, 9])"
      ]
     },
     "execution_count": 47,
     "metadata": {},
     "output_type": "execute_result"
    }
   ],
   "source": [
    "vec = np.arange(10)\n",
    "vec"
   ]
  },
  {
   "cell_type": "code",
   "execution_count": 48,
   "id": "5fa0da56",
   "metadata": {},
   "outputs": [
    {
     "data": {
      "text/plain": [
       "array([ True,  True,  True,  True,  True,  True, False, False, False,\n",
       "       False])"
      ]
     },
     "execution_count": 48,
     "metadata": {},
     "output_type": "execute_result"
    }
   ],
   "source": [
    "selector = vec <= 5\n",
    "selector"
   ]
  },
  {
   "cell_type": "markdown",
   "id": "baee1cd7",
   "metadata": {},
   "source": [
    "You can use these boolean arrays to subset the corresponding true values."
   ]
  },
  {
   "cell_type": "code",
   "execution_count": 49,
   "id": "bbab66b1",
   "metadata": {},
   "outputs": [
    {
     "data": {
      "text/plain": [
       "array([0, 1, 2, 3, 4, 5, 6, 7, 8, 9])"
      ]
     },
     "execution_count": 49,
     "metadata": {},
     "output_type": "execute_result"
    }
   ],
   "source": [
    "vec"
   ]
  },
  {
   "cell_type": "code",
   "execution_count": 50,
   "id": "bf2c59a8",
   "metadata": {},
   "outputs": [
    {
     "data": {
      "text/plain": [
       "array([0, 1, 2, 3, 4, 5])"
      ]
     },
     "execution_count": 50,
     "metadata": {},
     "output_type": "execute_result"
    }
   ],
   "source": [
    "vec[selector]"
   ]
  },
  {
   "cell_type": "code",
   "execution_count": 51,
   "id": "2f8b2757",
   "metadata": {},
   "outputs": [
    {
     "data": {
      "text/plain": [
       "array([0, 1, 2, 3, 4, 5])"
      ]
     },
     "execution_count": 51,
     "metadata": {},
     "output_type": "execute_result"
    }
   ],
   "source": [
    "vec[vec<=5]"
   ]
  },
  {
   "cell_type": "markdown",
   "id": "9c410878",
   "metadata": {},
   "source": [
    "You can do the same with matrices:"
   ]
  },
  {
   "cell_type": "code",
   "execution_count": 52,
   "id": "dc4b31fd",
   "metadata": {},
   "outputs": [],
   "source": [
    "mat_1 = np.array([[1, 2],\n",
    "       [3, 4],\n",
    "       [5, 6]])"
   ]
  },
  {
   "cell_type": "code",
   "execution_count": 53,
   "id": "1a2719f5",
   "metadata": {},
   "outputs": [
    {
     "data": {
      "text/plain": [
       "array([[False, False],\n",
       "       [ True,  True],\n",
       "       [ True,  True]])"
      ]
     },
     "execution_count": 53,
     "metadata": {},
     "output_type": "execute_result"
    }
   ],
   "source": [
    "mat_1 >= 3"
   ]
  },
  {
   "cell_type": "code",
   "execution_count": 54,
   "id": "64702559",
   "metadata": {},
   "outputs": [
    {
     "data": {
      "text/plain": [
       "array([3, 4, 5, 6])"
      ]
     },
     "execution_count": 54,
     "metadata": {},
     "output_type": "execute_result"
    }
   ],
   "source": [
    "mat_1[mat_1 >= 3]"
   ]
  },
  {
   "cell_type": "markdown",
   "id": "50bc1a98",
   "metadata": {},
   "source": [
    "### Questions 3\n",
    "- Consider the example matrix from above and subset all entries with values between 2 and 4. You can try to do this in one line or do it through multiple lines!"
   ]
  },
  {
   "cell_type": "code",
   "execution_count": 64,
   "id": "209ed42b",
   "metadata": {},
   "outputs": [
    {
     "data": {
      "text/plain": [
       "array([2, 3])"
      ]
     },
     "execution_count": 64,
     "metadata": {},
     "output_type": "execute_result"
    }
   ],
   "source": [
    "mat_1[(mat_1>=2) & (mat_1<4)]"
   ]
  },
  {
   "cell_type": "markdown",
   "id": "8fb95f7e",
   "metadata": {},
   "source": [
    "# Pandas\n",
    "## Python's package for handling data\n",
    "### Motivation for pandas\n",
    "Dictionaries allow us to save multiple attributes of a particular object. For example, we can store some information about a lesson:"
   ]
  },
  {
   "cell_type": "code",
   "execution_count": 65,
   "id": "5e3ba5c3",
   "metadata": {},
   "outputs": [],
   "source": [
    "lesson_5 = {\n",
    "    'topic': 'Numpy',\n",
    "    'teacher': 'Sharon',\n",
    "    'week': 5\n",
    "}"
   ]
  },
  {
   "cell_type": "markdown",
   "id": "52632b13",
   "metadata": {},
   "source": [
    "Often, we collect multiple observations for which we record the same attributes and we'd like to store them together:"
   ]
  },
  {
   "cell_type": "code",
   "execution_count": 66,
   "id": "a581c276",
   "metadata": {},
   "outputs": [],
   "source": [
    "lesson_3 = {\n",
    "    'topic': 'Basics of Python 2',\n",
    "    'teacher': 'Sharon',\n",
    "    'week': 3\n",
    "}\n",
    "lesson_1 = {\n",
    "    'topic': 'Setting up Python',\n",
    "    'teacher': 'Abhi',\n",
    "    'week': 1\n",
    "}"
   ]
  },
  {
   "cell_type": "markdown",
   "id": "033a2e2c",
   "metadata": {},
   "source": [
    "We could go about this by storing them in a list:"
   ]
  },
  {
   "cell_type": "code",
   "execution_count": 67,
   "id": "4fff6247",
   "metadata": {},
   "outputs": [],
   "source": [
    "lst_lessons = [lesson_5, lesson_3, lesson_1]"
   ]
  },
  {
   "cell_type": "code",
   "execution_count": 68,
   "id": "b94d1b2b",
   "metadata": {},
   "outputs": [
    {
     "data": {
      "text/plain": [
       "[{'topic': 'Numpy', 'teacher': 'Sharon', 'week': 5},\n",
       " {'topic': 'Basics of Python 2', 'teacher': 'Sharon', 'week': 3},\n",
       " {'topic': 'Setting up Python', 'teacher': 'Abhi', 'week': 1}]"
      ]
     },
     "execution_count": 68,
     "metadata": {},
     "output_type": "execute_result"
    }
   ],
   "source": [
    "lst_lessons"
   ]
  },
  {
   "cell_type": "markdown",
   "id": "9bf7f2f2",
   "metadata": {},
   "source": [
    "However, such lists are lacking a lot of functionality. For example, we may want to print out only those observations where Jasmine was the teacher. We'd have to use a for loop for this:"
   ]
  },
  {
   "cell_type": "code",
   "execution_count": 69,
   "id": "3462b682",
   "metadata": {},
   "outputs": [
    {
     "data": {
      "text/plain": [
       "[{'topic': 'Numpy', 'teacher': 'Sharon', 'week': 5},\n",
       " {'topic': 'Basics of Python 2', 'teacher': 'Sharon', 'week': 3}]"
      ]
     },
     "execution_count": 69,
     "metadata": {},
     "output_type": "execute_result"
    }
   ],
   "source": [
    "sharons_lessons = [\n",
    "    lesson for lesson in lst_lessons if lesson['teacher'] == 'Sharon'\n",
    "]\n",
    "sharons_lessons"
   ]
  },
  {
   "cell_type": "markdown",
   "id": "8bc071e7",
   "metadata": {},
   "source": [
    "We therefore need a new data structure that can record multiple pieces of information about multiple observations. This is provided by `pandas` (which stands for *panel data*):"
   ]
  },
  {
   "cell_type": "code",
   "execution_count": 70,
   "id": "e3d9dea2",
   "metadata": {},
   "outputs": [],
   "source": [
    "#We normally import pandas like this\n",
    "import pandas as pd"
   ]
  },
  {
   "cell_type": "markdown",
   "id": "b48b8e88",
   "metadata": {},
   "source": [
    "The core object in pandas is a *data frame*, which consists of observations organized along its rows and different pieces of information about its observations organized along its columns."
   ]
  },
  {
   "cell_type": "code",
   "execution_count": 71,
   "id": "1c5acd53",
   "metadata": {},
   "outputs": [
    {
     "data": {
      "text/html": [
       "<div>\n",
       "<style scoped>\n",
       "    .dataframe tbody tr th:only-of-type {\n",
       "        vertical-align: middle;\n",
       "    }\n",
       "\n",
       "    .dataframe tbody tr th {\n",
       "        vertical-align: top;\n",
       "    }\n",
       "\n",
       "    .dataframe thead th {\n",
       "        text-align: right;\n",
       "    }\n",
       "</style>\n",
       "<table border=\"1\" class=\"dataframe\">\n",
       "  <thead>\n",
       "    <tr style=\"text-align: right;\">\n",
       "      <th></th>\n",
       "      <th>topic</th>\n",
       "      <th>teacher</th>\n",
       "      <th>week</th>\n",
       "    </tr>\n",
       "  </thead>\n",
       "  <tbody>\n",
       "    <tr>\n",
       "      <th>0</th>\n",
       "      <td>Numpy</td>\n",
       "      <td>Sharon</td>\n",
       "      <td>5</td>\n",
       "    </tr>\n",
       "    <tr>\n",
       "      <th>1</th>\n",
       "      <td>Basics of Python 2</td>\n",
       "      <td>Sharon</td>\n",
       "      <td>3</td>\n",
       "    </tr>\n",
       "    <tr>\n",
       "      <th>2</th>\n",
       "      <td>Setting up Python</td>\n",
       "      <td>Abhi</td>\n",
       "      <td>1</td>\n",
       "    </tr>\n",
       "  </tbody>\n",
       "</table>\n",
       "</div>"
      ],
      "text/plain": [
       "                topic teacher  week\n",
       "0               Numpy  Sharon     5\n",
       "1  Basics of Python 2  Sharon     3\n",
       "2   Setting up Python    Abhi     1"
      ]
     },
     "execution_count": 71,
     "metadata": {},
     "output_type": "execute_result"
    }
   ],
   "source": [
    "df_lessons = pd.DataFrame(lst_lessons)\n",
    "df_lessons"
   ]
  },
  {
   "cell_type": "markdown",
   "id": "ec9c40b5",
   "metadata": {},
   "source": [
    "### Finding out basic information"
   ]
  },
  {
   "cell_type": "code",
   "execution_count": 72,
   "id": "d4bd6da1",
   "metadata": {},
   "outputs": [
    {
     "data": {
      "text/plain": [
       "(3, 3)"
      ]
     },
     "execution_count": 72,
     "metadata": {},
     "output_type": "execute_result"
    }
   ],
   "source": [
    "df_lessons.shape"
   ]
  },
  {
   "cell_type": "code",
   "execution_count": 73,
   "id": "7b7770a9",
   "metadata": {},
   "outputs": [
    {
     "data": {
      "text/plain": [
       "Index(['topic', 'teacher', 'week'], dtype='object')"
      ]
     },
     "execution_count": 73,
     "metadata": {},
     "output_type": "execute_result"
    }
   ],
   "source": [
    "df_lessons.columns"
   ]
  },
  {
   "cell_type": "markdown",
   "id": "efde2867",
   "metadata": {},
   "source": [
    "### Indexing"
   ]
  },
  {
   "cell_type": "markdown",
   "id": "c1c5b376",
   "metadata": {},
   "source": [
    "Regular brackets return a specific column or a subset of columns:"
   ]
  },
  {
   "cell_type": "code",
   "execution_count": 74,
   "id": "267f1631",
   "metadata": {},
   "outputs": [
    {
     "data": {
      "text/plain": [
       "0    Sharon\n",
       "1    Sharon\n",
       "2      Abhi\n",
       "Name: teacher, dtype: object"
      ]
     },
     "execution_count": 74,
     "metadata": {},
     "output_type": "execute_result"
    }
   ],
   "source": [
    "df_lessons['teacher']"
   ]
  },
  {
   "cell_type": "markdown",
   "id": "4aea25c2",
   "metadata": {},
   "source": [
    "(*Note:* The object that is returned is called a `pd.Series` and has a few additional features compared to a one-dimensional numpy array. I personally don't use those additional features and think they are counter-productive, but you can look them up if you have to interact with them.)"
   ]
  },
  {
   "cell_type": "markdown",
   "id": "f97c70fd",
   "metadata": {},
   "source": [
    "You can operate on those columns in the same way you would operate on numpy arrays:"
   ]
  },
  {
   "cell_type": "code",
   "execution_count": null,
   "id": "0dae51cd",
   "metadata": {},
   "outputs": [],
   "source": [
    "df_lessons['teacher'] == 'Sharon'"
   ]
  },
  {
   "cell_type": "code",
   "execution_count": 78,
   "id": "eaa14bdd",
   "metadata": {},
   "outputs": [
    {
     "data": {
      "text/html": [
       "<div>\n",
       "<style scoped>\n",
       "    .dataframe tbody tr th:only-of-type {\n",
       "        vertical-align: middle;\n",
       "    }\n",
       "\n",
       "    .dataframe tbody tr th {\n",
       "        vertical-align: top;\n",
       "    }\n",
       "\n",
       "    .dataframe thead th {\n",
       "        text-align: right;\n",
       "    }\n",
       "</style>\n",
       "<table border=\"1\" class=\"dataframe\">\n",
       "  <thead>\n",
       "    <tr style=\"text-align: right;\">\n",
       "      <th></th>\n",
       "      <th>topic</th>\n",
       "      <th>teacher</th>\n",
       "    </tr>\n",
       "  </thead>\n",
       "  <tbody>\n",
       "    <tr>\n",
       "      <th>0</th>\n",
       "      <td>Numpy</td>\n",
       "      <td>Sharon</td>\n",
       "    </tr>\n",
       "    <tr>\n",
       "      <th>1</th>\n",
       "      <td>Basics of Python 2</td>\n",
       "      <td>Sharon</td>\n",
       "    </tr>\n",
       "    <tr>\n",
       "      <th>2</th>\n",
       "      <td>Setting up Python</td>\n",
       "      <td>Abhi</td>\n",
       "    </tr>\n",
       "  </tbody>\n",
       "</table>\n",
       "</div>"
      ],
      "text/plain": [
       "                topic teacher\n",
       "0               Numpy  Sharon\n",
       "1  Basics of Python 2  Sharon\n",
       "2   Setting up Python    Abhi"
      ]
     },
     "execution_count": 78,
     "metadata": {},
     "output_type": "execute_result"
    }
   ],
   "source": [
    "df_lessons[['topic', 'teacher']]"
   ]
  },
  {
   "cell_type": "markdown",
   "id": "7c0d68f9",
   "metadata": {},
   "source": [
    "`.loc` allows you to index data frames by row numbers and column names:"
   ]
  },
  {
   "cell_type": "code",
   "execution_count": 77,
   "id": "869266b1",
   "metadata": {},
   "outputs": [
    {
     "data": {
      "text/plain": [
       "'Sharon'"
      ]
     },
     "execution_count": 77,
     "metadata": {},
     "output_type": "execute_result"
    }
   ],
   "source": [
    "df_lessons.loc[1, 'teacher']"
   ]
  },
  {
   "cell_type": "markdown",
   "id": "ebce7e79",
   "metadata": {},
   "source": [
    "This also works with slicing:"
   ]
  },
  {
   "cell_type": "code",
   "execution_count": 76,
   "id": "6fcd1f93",
   "metadata": {},
   "outputs": [
    {
     "data": {
      "text/plain": [
       "1    Sharon\n",
       "2      Abhi\n",
       "Name: teacher, dtype: object"
      ]
     },
     "execution_count": 76,
     "metadata": {},
     "output_type": "execute_result"
    }
   ],
   "source": [
    "df_lessons.loc[1:, 'teacher']"
   ]
  },
  {
   "cell_type": "code",
   "execution_count": 75,
   "id": "636daff1",
   "metadata": {},
   "outputs": [
    {
     "data": {
      "text/html": [
       "<div>\n",
       "<style scoped>\n",
       "    .dataframe tbody tr th:only-of-type {\n",
       "        vertical-align: middle;\n",
       "    }\n",
       "\n",
       "    .dataframe tbody tr th {\n",
       "        vertical-align: top;\n",
       "    }\n",
       "\n",
       "    .dataframe thead th {\n",
       "        text-align: right;\n",
       "    }\n",
       "</style>\n",
       "<table border=\"1\" class=\"dataframe\">\n",
       "  <thead>\n",
       "    <tr style=\"text-align: right;\">\n",
       "      <th></th>\n",
       "      <th>topic</th>\n",
       "      <th>teacher</th>\n",
       "    </tr>\n",
       "  </thead>\n",
       "  <tbody>\n",
       "    <tr>\n",
       "      <th>0</th>\n",
       "      <td>Numpy</td>\n",
       "      <td>Sharon</td>\n",
       "    </tr>\n",
       "    <tr>\n",
       "      <th>1</th>\n",
       "      <td>Basics of Python 2</td>\n",
       "      <td>Sharon</td>\n",
       "    </tr>\n",
       "    <tr>\n",
       "      <th>2</th>\n",
       "      <td>Setting up Python</td>\n",
       "      <td>Abhi</td>\n",
       "    </tr>\n",
       "  </tbody>\n",
       "</table>\n",
       "</div>"
      ],
      "text/plain": [
       "                topic teacher\n",
       "0               Numpy  Sharon\n",
       "1  Basics of Python 2  Sharon\n",
       "2   Setting up Python    Abhi"
      ]
     },
     "execution_count": 75,
     "metadata": {},
     "output_type": "execute_result"
    }
   ],
   "source": [
    "df_lessons.loc[:, ['topic', 'teacher']]"
   ]
  },
  {
   "cell_type": "markdown",
   "id": "72b20cef",
   "metadata": {},
   "source": [
    "`iloc` works in the same way, but allows you to access columns according to their numerical index rather than their name:"
   ]
  },
  {
   "cell_type": "code",
   "execution_count": 79,
   "id": "40cb8ab4",
   "metadata": {},
   "outputs": [
    {
     "data": {
      "text/plain": [
       "'Sharon'"
      ]
     },
     "execution_count": 79,
     "metadata": {},
     "output_type": "execute_result"
    }
   ],
   "source": [
    "df_lessons.iloc[1, 1]"
   ]
  },
  {
   "cell_type": "markdown",
   "id": "f43b1e0e",
   "metadata": {},
   "source": [
    "Finally you can also do boolean indexing with rectangular brackets."
   ]
  },
  {
   "cell_type": "code",
   "execution_count": 80,
   "id": "9313c995",
   "metadata": {},
   "outputs": [
    {
     "data": {
      "text/html": [
       "<div>\n",
       "<style scoped>\n",
       "    .dataframe tbody tr th:only-of-type {\n",
       "        vertical-align: middle;\n",
       "    }\n",
       "\n",
       "    .dataframe tbody tr th {\n",
       "        vertical-align: top;\n",
       "    }\n",
       "\n",
       "    .dataframe thead th {\n",
       "        text-align: right;\n",
       "    }\n",
       "</style>\n",
       "<table border=\"1\" class=\"dataframe\">\n",
       "  <thead>\n",
       "    <tr style=\"text-align: right;\">\n",
       "      <th></th>\n",
       "      <th>topic</th>\n",
       "      <th>teacher</th>\n",
       "      <th>week</th>\n",
       "    </tr>\n",
       "  </thead>\n",
       "  <tbody>\n",
       "    <tr>\n",
       "      <th>0</th>\n",
       "      <td>Numpy</td>\n",
       "      <td>Sharon</td>\n",
       "      <td>5</td>\n",
       "    </tr>\n",
       "    <tr>\n",
       "      <th>1</th>\n",
       "      <td>Basics of Python 2</td>\n",
       "      <td>Sharon</td>\n",
       "      <td>3</td>\n",
       "    </tr>\n",
       "  </tbody>\n",
       "</table>\n",
       "</div>"
      ],
      "text/plain": [
       "                topic teacher  week\n",
       "0               Numpy  Sharon     5\n",
       "1  Basics of Python 2  Sharon     3"
      ]
     },
     "execution_count": 80,
     "metadata": {},
     "output_type": "execute_result"
    }
   ],
   "source": [
    "selector = df_lessons['teacher'] == 'Sharon'\n",
    "df_lessons[selector]"
   ]
  },
  {
   "cell_type": "markdown",
   "id": "b4b4acbb",
   "metadata": {},
   "source": [
    "(Note that the single `=` assigns the command to the right of it to the variable on its left. The double `==` on the other hand compares the values in `df_lessons['teacher']` and determines whether they are equal to `'Jasmine'`.)"
   ]
  },
  {
   "cell_type": "code",
   "execution_count": 81,
   "id": "6c8f379f",
   "metadata": {},
   "outputs": [
    {
     "data": {
      "text/html": [
       "<div>\n",
       "<style scoped>\n",
       "    .dataframe tbody tr th:only-of-type {\n",
       "        vertical-align: middle;\n",
       "    }\n",
       "\n",
       "    .dataframe tbody tr th {\n",
       "        vertical-align: top;\n",
       "    }\n",
       "\n",
       "    .dataframe thead th {\n",
       "        text-align: right;\n",
       "    }\n",
       "</style>\n",
       "<table border=\"1\" class=\"dataframe\">\n",
       "  <thead>\n",
       "    <tr style=\"text-align: right;\">\n",
       "      <th></th>\n",
       "      <th>topic</th>\n",
       "      <th>teacher</th>\n",
       "      <th>week</th>\n",
       "    </tr>\n",
       "  </thead>\n",
       "  <tbody>\n",
       "    <tr>\n",
       "      <th>0</th>\n",
       "      <td>Numpy</td>\n",
       "      <td>Sharon</td>\n",
       "      <td>5</td>\n",
       "    </tr>\n",
       "    <tr>\n",
       "      <th>1</th>\n",
       "      <td>Basics of Python 2</td>\n",
       "      <td>Sharon</td>\n",
       "      <td>3</td>\n",
       "    </tr>\n",
       "  </tbody>\n",
       "</table>\n",
       "</div>"
      ],
      "text/plain": [
       "                topic teacher  week\n",
       "0               Numpy  Sharon     5\n",
       "1  Basics of Python 2  Sharon     3"
      ]
     },
     "execution_count": 81,
     "metadata": {},
     "output_type": "execute_result"
    }
   ],
   "source": [
    "df_lessons[df_lessons['teacher']=='Sharon']"
   ]
  },
  {
   "cell_type": "markdown",
   "id": "bb05b08e",
   "metadata": {},
   "source": [
    "Finally, you can add new columns in the same way you would add a new key, value pair to a dictionary:"
   ]
  },
  {
   "cell_type": "code",
   "execution_count": 82,
   "id": "63d9a5ae",
   "metadata": {},
   "outputs": [
    {
     "data": {
      "text/html": [
       "<div>\n",
       "<style scoped>\n",
       "    .dataframe tbody tr th:only-of-type {\n",
       "        vertical-align: middle;\n",
       "    }\n",
       "\n",
       "    .dataframe tbody tr th {\n",
       "        vertical-align: top;\n",
       "    }\n",
       "\n",
       "    .dataframe thead th {\n",
       "        text-align: right;\n",
       "    }\n",
       "</style>\n",
       "<table border=\"1\" class=\"dataframe\">\n",
       "  <thead>\n",
       "    <tr style=\"text-align: right;\">\n",
       "      <th></th>\n",
       "      <th>topic</th>\n",
       "      <th>teacher</th>\n",
       "      <th>week</th>\n",
       "    </tr>\n",
       "  </thead>\n",
       "  <tbody>\n",
       "    <tr>\n",
       "      <th>0</th>\n",
       "      <td>Numpy</td>\n",
       "      <td>Sharon</td>\n",
       "      <td>5</td>\n",
       "    </tr>\n",
       "    <tr>\n",
       "      <th>1</th>\n",
       "      <td>Basics of Python 2</td>\n",
       "      <td>Sharon</td>\n",
       "      <td>3</td>\n",
       "    </tr>\n",
       "    <tr>\n",
       "      <th>2</th>\n",
       "      <td>Setting up Python</td>\n",
       "      <td>Abhi</td>\n",
       "      <td>1</td>\n",
       "    </tr>\n",
       "  </tbody>\n",
       "</table>\n",
       "</div>"
      ],
      "text/plain": [
       "                topic teacher  week\n",
       "0               Numpy  Sharon     5\n",
       "1  Basics of Python 2  Sharon     3\n",
       "2   Setting up Python    Abhi     1"
      ]
     },
     "execution_count": 82,
     "metadata": {},
     "output_type": "execute_result"
    }
   ],
   "source": [
    "df_lessons"
   ]
  },
  {
   "cell_type": "code",
   "execution_count": 83,
   "id": "4fe415e1",
   "metadata": {},
   "outputs": [],
   "source": [
    "df_lessons['homework'] = [True, True, False]"
   ]
  },
  {
   "cell_type": "code",
   "execution_count": 84,
   "id": "87658911",
   "metadata": {},
   "outputs": [
    {
     "data": {
      "text/html": [
       "<div>\n",
       "<style scoped>\n",
       "    .dataframe tbody tr th:only-of-type {\n",
       "        vertical-align: middle;\n",
       "    }\n",
       "\n",
       "    .dataframe tbody tr th {\n",
       "        vertical-align: top;\n",
       "    }\n",
       "\n",
       "    .dataframe thead th {\n",
       "        text-align: right;\n",
       "    }\n",
       "</style>\n",
       "<table border=\"1\" class=\"dataframe\">\n",
       "  <thead>\n",
       "    <tr style=\"text-align: right;\">\n",
       "      <th></th>\n",
       "      <th>topic</th>\n",
       "      <th>teacher</th>\n",
       "      <th>week</th>\n",
       "      <th>homework</th>\n",
       "    </tr>\n",
       "  </thead>\n",
       "  <tbody>\n",
       "    <tr>\n",
       "      <th>0</th>\n",
       "      <td>Numpy</td>\n",
       "      <td>Sharon</td>\n",
       "      <td>5</td>\n",
       "      <td>True</td>\n",
       "    </tr>\n",
       "    <tr>\n",
       "      <th>1</th>\n",
       "      <td>Basics of Python 2</td>\n",
       "      <td>Sharon</td>\n",
       "      <td>3</td>\n",
       "      <td>True</td>\n",
       "    </tr>\n",
       "    <tr>\n",
       "      <th>2</th>\n",
       "      <td>Setting up Python</td>\n",
       "      <td>Abhi</td>\n",
       "      <td>1</td>\n",
       "      <td>False</td>\n",
       "    </tr>\n",
       "  </tbody>\n",
       "</table>\n",
       "</div>"
      ],
      "text/plain": [
       "                topic teacher  week  homework\n",
       "0               Numpy  Sharon     5      True\n",
       "1  Basics of Python 2  Sharon     3      True\n",
       "2   Setting up Python    Abhi     1     False"
      ]
     },
     "execution_count": 84,
     "metadata": {},
     "output_type": "execute_result"
    }
   ],
   "source": [
    "df_lessons"
   ]
  },
  {
   "cell_type": "markdown",
   "id": "26f6e27e",
   "metadata": {},
   "source": [
    "### Exercises\n",
    "1. Create a data frame that additionally includes this week (week 6) with the appropriate topic (pandas) and teacher (Sam).\n",
    "2. Print out the topic for the second row.\n",
    "3. Subset the data frame to only print out the lessons for week 3 and higher.\n",
    "4. Create a new data frame that also includes week 7's lesson with teacher Sam. However, you don't know the topic yet. How does `pandas` represent this information? (Hint: Create a dictionary that only contains the keys `week` and `teacher`, but not `topic`. Try adding it to the list we used above and turning it into a dataframe.)\n",
    "5. You could have alternately also represented this information as a two-dimensional array with observations structured along rows and variables structured along columns. What would the difference be and why might this be a bad idea in this case? Discuss with the other students at your table."
   ]
  },
  {
   "cell_type": "code",
   "execution_count": null,
   "id": "69b9d3a8",
   "metadata": {},
   "outputs": [
    {
     "data": {
      "text/html": [
       "<div>\n",
       "<style scoped>\n",
       "    .dataframe tbody tr th:only-of-type {\n",
       "        vertical-align: middle;\n",
       "    }\n",
       "\n",
       "    .dataframe tbody tr th {\n",
       "        vertical-align: top;\n",
       "    }\n",
       "\n",
       "    .dataframe thead th {\n",
       "        text-align: right;\n",
       "    }\n",
       "</style>\n",
       "<table border=\"1\" class=\"dataframe\">\n",
       "  <thead>\n",
       "    <tr style=\"text-align: right;\">\n",
       "      <th></th>\n",
       "      <th>topic</th>\n",
       "      <th>teacher</th>\n",
       "      <th>week</th>\n",
       "    </tr>\n",
       "  </thead>\n",
       "  <tbody>\n",
       "    <tr>\n",
       "      <th>0</th>\n",
       "      <td>Numpy</td>\n",
       "      <td>Sharon</td>\n",
       "      <td>5</td>\n",
       "    </tr>\n",
       "    <tr>\n",
       "      <th>1</th>\n",
       "      <td>Basics of Python 2</td>\n",
       "      <td>Sharon</td>\n",
       "      <td>3</td>\n",
       "    </tr>\n",
       "    <tr>\n",
       "      <th>2</th>\n",
       "      <td>Setting up Python</td>\n",
       "      <td>Abhi</td>\n",
       "      <td>1</td>\n",
       "    </tr>\n",
       "    <tr>\n",
       "      <th>3</th>\n",
       "      <td>Pandas</td>\n",
       "      <td>Abhi</td>\n",
       "      <td>6</td>\n",
       "    </tr>\n",
       "    <tr>\n",
       "      <th>4</th>\n",
       "      <td>NaN</td>\n",
       "      <td>Sam</td>\n",
       "      <td>7</td>\n",
       "    </tr>\n",
       "  </tbody>\n",
       "</table>\n",
       "</div>"
      ],
      "text/plain": [
       "                topic teacher  week\n",
       "0               Numpy  Sharon     5\n",
       "1  Basics of Python 2  Sharon     3\n",
       "2   Setting up Python    Abhi     1\n",
       "3              Pandas    Abhi     6\n",
       "4                 NaN     Sam     7"
      ]
     },
     "execution_count": 96,
     "metadata": {},
     "output_type": "execute_result"
    }
   ],
   "source": [
    "#1\n",
    "lesson_6 = {\n",
    "    'topic': 'Pandas',\n",
    "    'teacher': 'Abhi',\n",
    "    'week': 6\n",
    "}\n",
    "lst_lessons.append(lesson_6)\n",
    "\n",
    "#2\n",
    "df_lessons = pd.DataFrame(lst_lessons)\n",
    "df_lessons.loc[1,'topic']\n",
    "\n",
    "#3\n",
    "selector = df_lessons['week'] >= 3\n",
    "df_lessons[selector]\n",
    "\n",
    "## OR: df[df['week'] >=3]\n",
    "\n",
    "#4\n",
    "lesson_7 = {\n",
    "    'teacher': 'Sam',\n",
    "    'week': 7\n",
    "}\n",
    "lst_lessons = [lesson_5, lesson_3, lesson_1, lesson_6, lesson_7]\n",
    "df_lessons = pd.DataFrame(lst_lessons)\n",
    "df_lessons\n",
    "\n",
    "#5\n",
    "\n"
   ]
  },
  {
   "cell_type": "markdown",
   "id": "64048f04",
   "metadata": {},
   "source": [
    "### Saving and loading a data frame\n",
    "You can save data frames in different formats. A popular format is csv (comma-separated values), which represents each observation in one row and each variable separated by commas."
   ]
  },
  {
   "cell_type": "code",
   "execution_count": 97,
   "id": "01287e4a",
   "metadata": {},
   "outputs": [],
   "source": [
    "df_lessons.to_csv('df_lessons.csv')"
   ]
  },
  {
   "cell_type": "markdown",
   "id": "ec312e81",
   "metadata": {},
   "source": [
    "Let's inspect this file."
   ]
  },
  {
   "cell_type": "markdown",
   "id": "a6b2f786",
   "metadata": {},
   "source": [
    "We'll be using csv files today. Note that they are not always ideal. For example, they do not save the type of your different values which can lead to issues. The hdf5 format is a popular alternative (but a little more complicated to use); alternatively the feather format is lightweight and more reliable, but a little less common."
   ]
  },
  {
   "cell_type": "code",
   "execution_count": null,
   "id": "6bb866cb",
   "metadata": {},
   "outputs": [],
   "source": [
    "df_lessons_loaded = pd.read_csv('df_lessons.csv')"
   ]
  },
  {
   "cell_type": "code",
   "execution_count": null,
   "id": "b4b2aef1",
   "metadata": {},
   "outputs": [],
   "source": [
    "df_lessons_loaded"
   ]
  },
  {
   "cell_type": "markdown",
   "id": "5fbb3ecd",
   "metadata": {},
   "source": [
    "### Exercises\n",
    "1. Read in the file `dot_motion.csv` using pandas and assign it to the variable `df_dm`.\n",
    "2. Try exploring the file and describe the data contained in it.\n",
    "3. Subset the data frame to only contain the observations with a reaction time of above 100.\n",
    "4. Create a new variable 'accuracy' that is 1 if the motion and the choice are matching and 0 otherwise.\n",
    "\n",
    "#### Hint for 4:\n",
    "If the motion and choice are matching, their entries should be equal. Create an array `accuracy` that contains as a boolean whether they are or are not matching. You can turn this boolean array (with True and False value) into a float array (which will assign 1 to True and 0 to False), using `accuracy.astype(float)`.\n"
   ]
  },
  {
   "cell_type": "code",
   "execution_count": null,
   "id": "e23594fe",
   "metadata": {},
   "outputs": [],
   "source": []
  },
  {
   "cell_type": "code",
   "execution_count": null,
   "metadata": {},
   "outputs": [],
   "source": []
  },
  {
   "cell_type": "code",
   "execution_count": null,
   "id": "06dec10f",
   "metadata": {},
   "outputs": [],
   "source": []
  },
  {
   "cell_type": "code",
   "execution_count": null,
   "id": "b9ce01a3",
   "metadata": {},
   "outputs": [],
   "source": []
  }
 ],
 "metadata": {
  "kernelspec": {
   "display_name": "intropython",
   "language": "python",
   "name": "python3"
  },
  "language_info": {
   "codemirror_mode": {
    "name": "ipython",
    "version": 3
   },
   "file_extension": ".py",
   "mimetype": "text/x-python",
   "name": "python",
   "nbconvert_exporter": "python",
   "pygments_lexer": "ipython3",
   "version": "3.13.5"
  }
 },
 "nbformat": 4,
 "nbformat_minor": 5
}
